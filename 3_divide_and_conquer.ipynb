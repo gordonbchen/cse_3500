{
 "cells": [
  {
   "cell_type": "markdown",
   "metadata": {},
   "source": [
    "# 2.1: Multiplication\n",
    "## Imaginary nums\n",
    "$(a+bi)(c+di) = ac - bd + (ad + bc)i$   \n",
    "$ad + bc = (a+b)(c+d) - ac - bd$  \n",
    "4 -> 3 multiplies.\n",
    "\n",
    "$n$-bit add is $O(n)$, grade-school multiply is $O(n^2)$\n",
    "\n",
    "## General case\n",
    "$x = x_L x_R = 2^{\\frac{n}{2}} x_L + x_R$  \n",
    "$y = y_L y_R = 2^{\\frac{n}{2}} y_L + y_R$  \n",
    "\n",
    "Without Gauss:  \n",
    "$xy = (2^{\\frac{n}{2}} x_L + x_R)(2^{\\frac{n}{2}} y_L + y_R) = 2^n x_L y_L + x_R y_R + 2^{\\frac{n}{2}} (x_L y_R + x_R y_L)$  \n",
    "$T(n) = 4 T(\\frac{n}{2}) + O(n)$\n",
    "\n",
    "With Gauss:  \n",
    "$xy = 2^n x_L y_L + x_R y_R + 2^{\\frac{n}{2}} ((x_L + x_R)(y_L + y_R) - x_L y_L - x_R y_R)$  \n",
    "$T(n) = 3 T(\\frac{n}{2}) + O(n)$\n",
    "\n",
    "## Runtimes\n",
    "Subproblems are halved in size every recursive call. At $\\log_2(n)$ level, subproblems are size 1, recursion ends. Height of tree is $\\log_2(n)$.\n",
    "\n",
    "Without Gauss\n",
    "* Level $k$, $4^k$ subproblems, each of size $O(\\frac{n}{2^k})$, work is $4^k * O(\\frac{n}{2^k}) = 2^k O(n)$.\n",
    "* $\\text{Work} = \\sum_{k=0}^{\\log_2(n)} 2^k O(n)$. Since $2>1$, the work is dominated by the work at the very bottom.\n",
    "* At the bottom: $\\text{Work} = 2^{\\log_2(n)} O(n) = O(n^2)$\n",
    "\n",
    "With Gauss\n",
    "* Level $k$, $3^k$ subproblems, each of size $O(\\frac{n}{2^k})$, work is $3^k * O(\\frac{n}{2^k}) = (\\frac{3}{2})^k O(n)$.\n",
    "* $\\text{Work} = \\sum_{k=0}^{\\log_2(n)} (\\frac{3}{2})^k O(n)$. Since $\\frac{3}{2}>1$, the work is dominated by the work at the very bottom.\n",
    "* At the bottom: $\\text{Work} = (\\frac{3}{2})^{\\log_2(n)} O(n) = 2^{\\log_2(\\frac{3}{2})^{\\log_2(n)}} O(n) = n^{\\log_2(\\frac{3}{2})} O(n) \\approx O(n^{1.58})$\n",
    "\n",
    "Implementation: don't recurse down to 1 bit since 16 or 32 bit multiplication is a single operation on CPUs."
   ]
  },
  {
   "cell_type": "markdown",
   "metadata": {},
   "source": [
    "# 2.2: Master Theorem\n",
    "Divide and conquer: solve problem of size $n$ by recursively solving $a$ subproblems of size $\\frac{n}{b}$ and combining in $O(n^d)$ time.  \n",
    "$T(n) = a T(\\frac{n}{b}) + O(n)^d$\n",
    "\n",
    "\\# Levels: $\\frac{n}{b^k} = 1 \\to n = b^k \\to k = \\log_b(n)$  \n",
    "\\# Subproblems for level $k$: $a^k$  \n",
    "\\# Size of subproblem for level $k$: $O(\\frac{n}{b^k})^d$\n",
    "\n",
    "$T(n) = \\sum_{k=0}^{\\log_b(n)} a^k \\times O(\\frac{n}{b^k})^d = \\sum_{k=0}^{\\log_b(n)} \\frac{a^k}{b^{dk}} \\times O(n^d) = \\sum_{k=0}^{\\log_b(n)} (\\frac{a}{b^d})^k \\times O(n^d)$\n",
    "* $\\frac{a}{b^d} > 1$: bottom heavy, $(\\frac{a}{b^d})^{\\log_b(n)} \\times O(n^d) = b^{\\log_b(\\frac{a}{b^d}) \\times \\log_b(n)} \\times O(n^d) = n^{\\log_b(\\frac{a}{b^d})} \\times O(n^d) = n^{\\log_b(\\frac{a}{b^d})} \\times O(n^d) = n^{\\log_b(a) - d} \\times O(n^d) = O(n^{\\log_b(a)})$\n",
    "* $\\frac{a}{b^d} = 1$ runtime same at every level: $\\log_b(n) \\times O(n^d) = O(n^d \\log_b(n))$\n",
    "* $\\frac{a}{b^d} = 1$: top heavy, $O(n^d)$"
   ]
  },
  {
   "cell_type": "markdown",
   "metadata": {},
   "source": [
    "# 2.3: Mergesort\n",
    "Given an unsorted array, divide the array in half, recursively sort each half, the merge both halves together.\n",
    "\n",
    "Merging 2 sorted arrays together takes $O(n)$ linear time.\n",
    "\n",
    "$T(n) = 2T(\\frac{n}{2}) + O(n)$  \n",
    "$T(n) = \\sum_{k=o}^{\\log_2(n)} 2^k O(\\frac{n}{2^k}) = \\sum_{k=o}^{\\log_2(n)} O(n) = O(n \\log_2(n))$"
   ]
  },
  {
   "cell_type": "code",
   "execution_count": 1,
   "metadata": {},
   "outputs": [
    {
     "name": "stdout",
     "output_type": "stream",
     "text": [
      "[1, 2, 3, 4, 6, 7, 9, 32]\n"
     ]
    }
   ],
   "source": [
    "def mergesort(L: list[int]) -> None:\n",
    "    if len(L) <= 1:\n",
    "        return L\n",
    "    \n",
    "    mid = len(L) // 2\n",
    "    left, right = L[:mid], L[mid:]\n",
    "    \n",
    "    mergesort(left)\n",
    "    mergesort(right)\n",
    "\n",
    "    # Merge.\n",
    "    i, j = 0, 0\n",
    "    while (i < len(left)) and (j < len(right)):\n",
    "        if left[i] < right[j]:\n",
    "            L[i+j] = left[i]\n",
    "            i += 1\n",
    "        else:\n",
    "            L[i+j] = right[j]\n",
    "            j += 1\n",
    "\n",
    "    L[i+j:] = left[i:] + right[j:]\n",
    "    \n",
    "L = [4, 2, 1, 6, 32, 3, 9, 7]\n",
    "mergesort(L)\n",
    "print(L)"
   ]
  },
  {
   "cell_type": "markdown",
   "metadata": {},
   "source": [
    "Comparison-based sorting can be represented as a binary tree with leaves having permutations of the array (one of them is sorted).\n",
    "\n",
    "Tree sorts array of $n$ elements. Leaves are every permutation of ${1, 2, ..., n}$. $n!$ permutations, therefore $n!$ leaves.  \n",
    "Binary tree with $n$ leaves has depth of $\\log_2(n)$. Tree must then have a depth (and runtime) of at most O($\\log_2(n!)) = O(n \\log_2(n))$\n",
    "\n",
    "Only applies to comparison-based sorting (not Radix and Counting Sort, which only work for integers)."
   ]
  },
  {
   "cell_type": "markdown",
   "metadata": {},
   "source": [
    "# 2.4: Medians\n",
    "Naive: Sort $O(n \\log(n))$, then pick middle element.\n",
    "\n",
    "Selection: get the $k$-th smallest element of $S$. Pick a number $v$ and split all elements in $S$ into $S_L$ (elements < $v$), $S_v$ (elements = $v$), and $S_R$ (elements > $v$).\n",
    "\n",
    "$S = \\{ 2, 36, 5, 21, 8, 13, 11, 20, 5, 4, 1 \\}$  \n",
    "$v = 5$  \n",
    "$S_L = \\{ 2, 4, 1 \\}$, $S_v = \\{ 5, 5 \\}$, $S_R = \\{ 36, 21, 8, 13, 11, 20 \\}$\n",
    "\n",
    "If we want the $8$-th smallest element of $S$, we immediately know that we need the $3$-rd smallest element of $S_R$. \n",
    "\n",
    "$\n",
    "\\text{selection}(S, k) = \\begin{cases} \n",
    "    \\text{selection}(S_L, k) & \\text{if} & k \\le |S_L| \\\\\n",
    "    v & \\text{if} & |S_L| < k \\le |S_R| \\\\\n",
    "    \\text{selection}(S_R, k - |S_L| - |S_v|) & \\text{if} & k > |S_L| + |S_v| \\\\\n",
    "\\end{cases}\n",
    "$\n",
    "\n",
    "Computing $S_L, S_v, S_R$ is linear time. Selection reduces elements from $|S|$ to $\\max(|S_L|, |S_R|)$.  \n",
    "Ideally we would pick $v$ so that $|S_L| = |S_R| = \\frac{1}{2} |S|$, cutting the search space in half each time, $T(n) = 2T(\\frac{n}{2}) + O(n)$.  \n",
    "However, $v$ would have to be the median for that to be true, so instead we pick randomly.\n",
    "\n",
    "Worst case for randomly picking $v$ is picking the min/max, cutting down only by 1 each time. $n + (n-1) + ... + \\frac{n}{2} = \\Theta(n^2)$.  \n",
    "Best case of picking exactly the median is equally unlikely. $O(n)$.\n",
    "\n",
    "$v$ is good if lies in $25-75$-th percentile (remaining search space will be at most $\\frac{3}{4}$ the size).  \n",
    "$v$ has a $50%$ change of being good. $v$ will be good an average every $2$ picks.  \n",
    "After 2 splits on average, the search space will shrink to $\\frac{3}{4}$ its size: $T(n) \\le T(\\frac{3}{4} n) + O(n)$  \n",
    "$T(n) = O(n)$.\n",
    "\n",
    "Quicksort: random split (partitioning the array), and sorting each partition. Also $O(n \\log(n))$, but empirically faster than merge sort."
   ]
  },
  {
   "cell_type": "markdown",
   "metadata": {},
   "source": [
    "# 2.5: Matrix Multiplication\n",
    "$XY = Z$, where $X, Y, Z$ are all $(n, n)$ matricies. Naively takes $O(n^3)$ operations, fill in all $n^2$ elements of $Z$, where each element is a $O(n)$ dot product.\n",
    "\n",
    "Naive divide and conquer:  \n",
    "$X = \\begin{bmatrix} A & B \\\\ C & D \\\\ \\end{bmatrix}, Y = \\begin{bmatrix} E & F \\\\ G & H \\\\ \\end{bmatrix}$  \n",
    "$XY = \\begin{bmatrix} AE + BG & AF  + BH \\\\ CE + DG & CF + DH \\\\ \\end{bmatrix}$\n",
    "\n",
    "$T(n) = 8T(\\frac{n}{2}) + O(n^2)$  \n",
    "$T(n) = \\sum_{k=0}^{\\log_2(n)} 8^k * O(\\frac{n}{2^k})^2 = \\sum_{k=0}^{\\log_2(n)} 2^k * O(n^2) = O(n^3)$\n",
    "\n",
    "Strassen:  \n",
    "$XY$ only requires computing 7 $(\\frac{n}{2}, \\frac{n}{2})$ subproblems, not 8. (Quite a mess of algebra).\n",
    "\n",
    "$T(n) = 7T(\\frac{n}{2}) + O(n^2)$  \n",
    "$T(n) = \\sum_{k=0}^{\\log_2(n)} 7^k * O(\\frac{n}{2^k})^2 = \\sum_{k=0}^{\\log_2(n)} (\\frac{7}{4})^k * O(n^2) = O(n^{\\log_2(\\frac{7}{4})}) * O(n^2) \\approx O(n^{2.81})$"
   ]
  },
  {
   "cell_type": "markdown",
   "metadata": {},
   "source": [
    "# 2.6: FFT"
   ]
  }
 ],
 "metadata": {
  "kernelspec": {
   "display_name": "venv",
   "language": "python",
   "name": "python3"
  },
  "language_info": {
   "codemirror_mode": {
    "name": "ipython",
    "version": 3
   },
   "file_extension": ".py",
   "mimetype": "text/x-python",
   "name": "python",
   "nbconvert_exporter": "python",
   "pygments_lexer": "ipython3",
   "version": "3.10.12"
  }
 },
 "nbformat": 4,
 "nbformat_minor": 2
}

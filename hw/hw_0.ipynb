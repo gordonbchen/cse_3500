{
 "cells": [
  {
   "cell_type": "code",
   "execution_count": 1,
   "metadata": {},
   "outputs": [
    {
     "data": {
      "text/plain": [
       "5"
      ]
     },
     "execution_count": 1,
     "metadata": {},
     "output_type": "execute_result"
    }
   ],
   "source": [
    "def lcs(A, B, i, j):\n",
    "    \"\"\"\n",
    "    Compute the length of the Largest Common Subsequence\n",
    "    b/t the i-prefix of A and the j-prefix of B.\n",
    "    \"\"\"\n",
    "    if (i == 0) or (j == 0):\n",
    "        return 0\n",
    "    \n",
    "    if A[i] == B[j]:\n",
    "        return lcs(A, B, i-1, j-1) + 1\n",
    "    return max(lcs(A, B, i-1, j), lcs(A, B, i, j-1)) \n",
    "\n",
    "A = \"ACAGGTTAC\"\n",
    "B = \"TCGGAATAA\"\n",
    "lcs(A, B, len(A)-1, len(B)-1) "
   ]
  },
  {
   "cell_type": "code",
   "execution_count": 2,
   "metadata": {},
   "outputs": [
    {
     "data": {
      "text/plain": [
       "np.int32(3)"
      ]
     },
     "execution_count": 2,
     "metadata": {},
     "output_type": "execute_result"
    }
   ],
   "source": [
    "import numpy as np\n",
    "\n",
    "def longest_path(V: set[int], E: set[tuple[int, int]]) -> int:\n",
    "    \"\"\"\n",
    "    Compute the length of the longest path\n",
    "    in an ordered, unweighted, directed graph.\n",
    "    \"\"\"\n",
    "    prevs = {v: set() for v in V}\n",
    "    for (u,v) in E:\n",
    "        prevs[v].add(u)\n",
    "\n",
    "    n = len(V)\n",
    "    L = np.zeros(n, dtype=np.int32)\n",
    "    for i in range(n):\n",
    "        L[i] = 1 + max((L[j] for j in prevs[i]), default=-1)\n",
    "    return L[-1]\n",
    "\n",
    "V = {0, 1, 2, 3, 4}\n",
    "E = {(0, 1), (1, 4), (0, 2), (2, 3), (3, 4)}\n",
    "longest_path(V, E)"
   ]
  }
 ],
 "metadata": {
  "kernelspec": {
   "display_name": "venv",
   "language": "python",
   "name": "python3"
  },
  "language_info": {
   "codemirror_mode": {
    "name": "ipython",
    "version": 3
   },
   "file_extension": ".py",
   "mimetype": "text/x-python",
   "name": "python",
   "nbconvert_exporter": "python",
   "pygments_lexer": "ipython3",
   "version": "3.12.7"
  }
 },
 "nbformat": 4,
 "nbformat_minor": 2
}

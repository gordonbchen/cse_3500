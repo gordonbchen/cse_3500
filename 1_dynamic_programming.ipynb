{
 "cells": [
  {
   "cell_type": "markdown",
   "metadata": {},
   "source": [
    "# 6.2: Longest subsequence"
   ]
  },
  {
   "cell_type": "markdown",
   "metadata": {},
   "source": [
    "$L(j) = 1 + \\max \\{L(i) : (i, j) \\in E\\}$\n",
    "\n",
    "The longest length to a node $L(j)$ is $1+$ the maximum length of all nodes that have an edge into $j$.  \n",
    "The length of the longest subsequence is the maximimum length to a node."
   ]
  },
  {
   "cell_type": "code",
   "execution_count": 1,
   "metadata": {},
   "outputs": [
    {
     "data": {
      "text/plain": [
       "{0: set(),\n",
       " 1: set(),\n",
       " 2: {0, 1},\n",
       " 3: {0, 1},\n",
       " 4: {1},\n",
       " 5: {0, 1, 4},\n",
       " 6: {0, 1, 2, 3, 4, 5},\n",
       " 7: {0, 1, 3, 4, 5}}"
      ]
     },
     "execution_count": 1,
     "metadata": {},
     "output_type": "execute_result"
    }
   ],
   "source": [
    "L = [5, 2, 8, 6, 3, 6, 9, 7]\n",
    "adj = {i: set(j for j in range(i) if L[j] < L[i]) for i in range(len(L))}\n",
    "adj"
   ]
  },
  {
   "cell_type": "code",
   "execution_count": 2,
   "metadata": {},
   "outputs": [
    {
     "data": {
      "text/plain": [
       "([1, 1, 2, 2, 2, 3, 4, 4], 4)"
      ]
     },
     "execution_count": 2,
     "metadata": {},
     "output_type": "execute_result"
    }
   ],
   "source": [
    "lengths = [0 for _ in range(len(L))]\n",
    "\n",
    "for i in range(len(lengths)):\n",
    "    lengths[i] = 1 + max((lengths[j] for j in adj[i]), default=0)\n",
    "lengths, max(lengths)"
   ]
  },
  {
   "cell_type": "markdown",
   "metadata": {},
   "source": [
    "Dynamic programming: compute the max length to a node by relating it to the max length of nodes with edges into the node. Do this in 1 pass, from the base case up."
   ]
  },
  {
   "cell_type": "markdown",
   "metadata": {},
   "source": [
    "Dynamic programming is bottom-up. Recursion (with memoization) is top-down. Recursion without memoization is utter insanity."
   ]
  },
  {
   "cell_type": "code",
   "execution_count": 3,
   "metadata": {},
   "outputs": [
    {
     "name": "stdout",
     "output_type": "stream",
     "text": [
      "lengths=[1, 1, 2, 2, 2, 3, 4, 4]\n",
      "end_node_idx=6\n",
      "lengths[end_node_idx]=4\n",
      "L=[5, 2, 8, 6, 3, 6, 9, 7]\n",
      "prevs=[None, None, 0, 0, 1, 4, 5, 5]\n",
      "idx_path=[6, 5, 4, 1, None]\n",
      "num_path=[2, 3, 6, 9]\n"
     ]
    }
   ],
   "source": [
    "lengths = [0 for _ in range(len(L))]\n",
    "prevs = []\n",
    "\n",
    "for i in range(len(lengths)):\n",
    "    max_idx = max(adj[i], key=lambda idx: lengths[idx], default=None)\n",
    "    lengths[i] = 1 + (0 if max_idx is None else lengths[max_idx])\n",
    "    prevs.append(max_idx)\n",
    "\n",
    "end_node_idx = max(range(len(lengths)), key=lambda idx: lengths[idx])\n",
    "print(f\"{lengths=}\")\n",
    "print(f\"{end_node_idx=}\")\n",
    "print(f\"{lengths[end_node_idx]=}\")\n",
    "print(f\"{L=}\")\n",
    "print(f\"{prevs=}\")\n",
    "\n",
    "idx_path = [end_node_idx]\n",
    "while idx_path[-1] != None:\n",
    "    idx_path.append(prevs[idx_path[-1]])\n",
    "print(f\"{idx_path=}\")\n",
    "num_path = list(reversed([L[i] for i in idx_path[:-1]]))\n",
    "print(f\"{num_path=}\")"
   ]
  },
  {
   "cell_type": "markdown",
   "metadata": {},
   "source": [
    "Keep track of index of the maximum length node we came from. Then at the end, backtrack to get the maximum subsequence path."
   ]
  },
  {
   "cell_type": "markdown",
   "metadata": {},
   "source": [
    "# 6.3: Edit distance"
   ]
  },
  {
   "cell_type": "markdown",
   "metadata": {},
   "source": [
    "S-NOWY  \n",
    "SUNN-Y  \n",
    "\n",
    "Edit dist (cost) = 3\n",
    "\n",
    "View 1: ops to change SNOWY -> SUNNY: insert U, replace N -> O, delete W  \n",
    "View 2: alignment cost: add gap (+1), wrong letter (+1)"
   ]
  },
  {
   "cell_type": "markdown",
   "metadata": {},
   "source": [
    "Goal: find edit dist b/t $x[1...m]$ and $y[1...n]$.\n",
    "\n",
    "$E(i, j)$ = edit dist b/t $x[1...i]$ and $y[1...j]$\n",
    "\n",
    "Goal: compute $E(m, n)$\n",
    "\n",
    "We need to express $E(i, j)$ in terms of smaller subproblems.\n",
    "\n",
    "Best alignment b/t $x[1...i]$ and $y[1...j]$:\n",
    "* $x[i]$ and $\\_\\_$: $\\text{cost} = 1 + E(i-1, j)$\n",
    "* $\\_\\_$ and $y[j]$: $\\text{cost} = 1 + E(i, j-1)$\n",
    "* $x[i]$ and $y[i]$: $\\text{cost} = (x[i] \\neq y[j]) + E(i-1, j-1)$\n",
    "\n",
    "$E(i, j) = min(1 + E(i-1, j), 1 + E(i, j-1), (x[i] \\neq y[j]) + E(i-1, j-1))$"
   ]
  },
  {
   "cell_type": "markdown",
   "metadata": {},
   "source": [
    "Solution to all subproblems $E(i, j)$ form 2d table.\n",
    "\n",
    "![Edit dist table](images/edit_dist_table.png)\n",
    "\n",
    "Order to subproblems: must have $E(i-1, j), E(i, j-1), E(i-1, j-1)$ solved before solving $E(i, j)$.  \n",
    "This can be achieved moving in row-major or col-major order.\n",
    "\n",
    "Base cases\n",
    "* $E(0, j) = j$: dist b/t empty prefix of $x$ (empty str) and $y[1...j]$ is $j$\n",
    "* $E(i, 0) = i$"
   ]
  },
  {
   "cell_type": "code",
   "execution_count": 4,
   "metadata": {},
   "outputs": [
    {
     "name": "stdout",
     "output_type": "stream",
     "text": [
      "      P, O, L, Y, N, O, M, I, A, L\n",
      "  [0, 1, 2, 3, 4, 5, 6, 7, 8, 9, 10]\n",
      "E [1, 1, 2, 3, 4, 5, 6, 7, 8, 9, 10]\n",
      "X [2, 2, 2, 3, 4, 5, 6, 7, 8, 9, 10]\n",
      "P [3, 2, 3, 3, 4, 5, 6, 7, 8, 9, 10]\n",
      "O [4, 3, 2, 3, 4, 5, 5, 6, 7, 8, 9]\n",
      "N [5, 4, 3, 3, 4, 4, 5, 6, 7, 8, 9]\n",
      "E [6, 5, 4, 4, 4, 5, 5, 6, 7, 8, 9]\n",
      "N [7, 6, 5, 5, 5, 4, 5, 6, 7, 8, 9]\n",
      "T [8, 7, 6, 6, 6, 5, 5, 6, 7, 8, 9]\n",
      "I [9, 8, 7, 7, 7, 6, 6, 6, 6, 7, 8]\n",
      "A [10, 9, 8, 8, 8, 7, 7, 7, 7, 6, 7]\n",
      "L [11, 10, 9, 8, 9, 8, 8, 8, 8, 7, 6]\n",
      "\n",
      "E(m, n): 6\n"
     ]
    }
   ],
   "source": [
    "x = \"EXPONENTIAL\"\n",
    "y = \"POLYNOMIAL\"\n",
    "\n",
    "m = len(x)\n",
    "n = len(y)\n",
    "\n",
    "E = [[0 for j in range(n+1)] for i in range(m+1)]\n",
    "for i in range(m+1):\n",
    "    for j in range(n+1):\n",
    "        if i == 0:\n",
    "            E[i][j] = j\n",
    "        elif j == 0:\n",
    "            E[i][j] = i\n",
    "        else:\n",
    "            E[i][j] = min(1 + E[i-1][j], 1 + E[i][j-1], (x[i-1]!=y[j-1]) + E[i-1][j-1])\n",
    "\n",
    "print(f\"      {\", \".join(y)}\")\n",
    "for i, row in enumerate(E):\n",
    "    print(f\"{x[i-1] if i > 0 else ' '} {row}\")\n",
    "    \n",
    "print(f\"\\nE(m, n): {E[m-1][n-1]}\")  # E(m, n), the goal"
   ]
  },
  {
   "cell_type": "markdown",
   "metadata": {},
   "source": [
    "Fills in the table in row-major order.\n",
    "\n",
    "O(mn), since O(mn) entries, and each entry takes O(1) time to fill in."
   ]
  },
  {
   "cell_type": "markdown",
   "metadata": {},
   "source": [
    "Dynamic programs have underlying DAG (Directed Acyclic Graph) structures. Each node is a subproblem, and edges are dependencies.\n",
    "\n",
    "Setting all edges to length 1, except for edges going into $(i, j)$ if ($x[i] = y[j]$, the solution is the distance b/t $(0, 0)$ and $(m, n)$. Each step down is a DELETE on x, each step right is an INSERT on y, and each diagonal step is a CHANGE/KEEP on y."
   ]
  },
  {
   "cell_type": "markdown",
   "metadata": {},
   "source": [
    "Input $x_1, ..., x_n$, and subproblem is $x_1, ..., x_i$: $O(n)$ subproblems\n",
    "\n",
    "Inputs $x_1, ..., x_n$ and $y_1, ..., y_n$, and subproblem is $x_1, ..., x_i$ and $y_1, ..., y_i$: $O(nm)$ subproblems\n",
    "\n",
    "Input $x_1, ..., x_n$, and subproblem is $x_i, ..., x_j$: $O(n^2)$ subproblems\n",
    "\n",
    "Input rooted tree, subproblem rooted subtree: $O(n)$ subproblems"
   ]
  },
  {
   "cell_type": "markdown",
   "metadata": {},
   "source": [
    "## Of mice and men\n",
    "* DNA encoded by 3 billion chars over $\\{A, C, G, T\\}$\n",
    "* DNA of people vary by 0.1%, 3 million base positions\n",
    "* DNA broken down into smaller gene units\n",
    "* Finding close gene matches gives insight into function\n",
    "* BLAST algorithm for computational biology"
   ]
  },
  {
   "cell_type": "markdown",
   "metadata": {},
   "source": [
    "# Knapsack"
   ]
  },
  {
   "cell_type": "markdown",
   "metadata": {},
   "source": [
    "Robber can carry maximum weight of $W$ pounds.\n",
    "\n",
    "$n$ items w/ weights $w_1...w_n$ and values $v_1...v_n$\n",
    "\n",
    "What is the most valuable combo of items he can pick?"
   ]
  },
  {
   "cell_type": "markdown",
   "metadata": {},
   "source": [
    "$W = 10$\n",
    "\n",
    "\n",
    "| Item | Weight | Value |\n",
    "|------|--------|-------|\n",
    "|  1   |   6    |  30   |\n",
    "|  2   |   3    |  14   |\n",
    "|  3   |   4    |  16   |\n",
    "|  4   |   2    |  9    |"
   ]
  },
  {
   "cell_type": "markdown",
   "metadata": {},
   "source": [
    "w/ repetitions (infinite # of each item): optimal = item1 + 2 * item2, $48\n",
    "\n",
    "w/out repetitions (each item once): optimal = item1 + item2, $46"
   ]
  },
  {
   "cell_type": "markdown",
   "metadata": {},
   "source": [
    "## With repetition"
   ]
  },
  {
   "cell_type": "markdown",
   "metadata": {},
   "source": []
  }
 ],
 "metadata": {
  "kernelspec": {
   "display_name": "venv",
   "language": "python",
   "name": "python3"
  },
  "language_info": {
   "codemirror_mode": {
    "name": "ipython",
    "version": 3
   },
   "file_extension": ".py",
   "mimetype": "text/x-python",
   "name": "python",
   "nbconvert_exporter": "python",
   "pygments_lexer": "ipython3",
   "version": "3.12.7"
  }
 },
 "nbformat": 4,
 "nbformat_minor": 2
}
